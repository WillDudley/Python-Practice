{
 "cells": [
  {
   "cell_type": "markdown",
   "metadata": {},
   "source": [
    "Chessboard is 8x8\n",
    "\n",
    "Knights have up to 8 possible moves\n",
    "\n",
    "Moves cannot wrap around\n",
    "\n",
    "Start position is random\n",
    "\n",
    "Prob of move is uniform\n",
    "\n",
    "A move only counts if it is valid"
   ]
  },
  {
   "cell_type": "code",
   "execution_count": 8,
   "metadata": {},
   "outputs": [],
   "source": [
    "import numpy as np"
   ]
  },
  {
   "cell_type": "code",
   "execution_count": null,
   "metadata": {},
   "outputs": [],
   "source": []
  },
  {
   "cell_type": "code",
   "execution_count": 9,
   "metadata": {},
   "outputs": [],
   "source": [
    "def makeMove(position):\n",
    "    \"\"\"\n",
    "    Carries out one random move, augmenting position\n",
    "    Also checks if move is valid, could preprocess to not have a while loop but hurts readability and shouldn't impact performance much\n",
    "    \"\"\"\n",
    "    \n",
    "    while True:  # fight me\n",
    "        choice_index = np.random.randint(0,8)\n",
    "        potential_position = {\n",
    "            0: (position[0]+1, position[1]+2),  # Right 1 Up 2\n",
    "            1: (position[0]+1, position[1]-2),  # R1D2\n",
    "            2: (position[0]-1, position[1]+2),  # L1U2\n",
    "            3: (position[0]-1, position[1]-2),  # L1D2...\n",
    "            4: (position[0]+2, position[1]+1),\n",
    "            5: (position[0]+2, position[1]-1),\n",
    "            6: (position[0]-2, position[1]+1),\n",
    "            7: (position[0]-2, position[1]-1)\n",
    "        }.get(choice_index)\n",
    "        \n",
    "        if potential_position[0] < 0 or potential_position[0] > 7 or potential_position[1] < 0 or potential_position[1] > 7:\n",
    "            # if potential_position is out of range...\n",
    "            pass  # ... nothing happens and the while loop continues\n",
    "        else:\n",
    "            # if in range...\n",
    "            return potential_position  # ... position changes "
   ]
  },
  {
   "cell_type": "code",
   "execution_count": 10,
   "metadata": {},
   "outputs": [],
   "source": [
    "def simulateTrial():\n",
    "    \"\"\"\n",
    "    Knight placed on random tile\n",
    "    Carries out valid moves until returned to starting position\n",
    "    Returns number of valid moves taken\n",
    "    \"\"\"\n",
    "    move_count = 0\n",
    "    start_pos = (np.random.randint(0,8), np.random.randint(0,8))\n",
    "    current_pos = start_pos\n",
    "    \n",
    "    current_pos = makeMove(current_pos)  # initial move\n",
    "    move_count += 1   \n",
    "    \n",
    "    while current_pos != start_pos:\n",
    "        current_pos = makeMove(current_pos)\n",
    "        move_count += 1\n",
    "        \n",
    "    return move_count"
   ]
  },
  {
   "cell_type": "code",
   "execution_count": 46,
   "metadata": {},
   "outputs": [],
   "source": [
    "def simulate(n=1000, suppress=False, repeat=False):\n",
    "    summ = 0\n",
    "    \n",
    "    if not repeat:\n",
    "        summ = 0\n",
    "        for _ in range(n):\n",
    "            summ += simulateTrial()\n",
    "        if not suppress:\n",
    "            print(f\"After {n} simulated trials the average number of moves is {summ / n}.\")\n",
    "        else:\n",
    "            return summ / n\n",
    "    else:\n",
    "        running_totals = [0]*n  # list of trials\n",
    "        averages = [0]*n\n",
    "        \n",
    "        running_totals[0] = simulateTrial()  # first trial\n",
    "        \n",
    "        for i in range(n-1):  # inductively work out rest\n",
    "            running_totals[i+1] = running_totals[i] + simulateTrial()\n",
    "            averages[i+1] = running_totals[i+1] / (i+1)  # total / number of trials\n",
    "        \n",
    "        return averages\n",
    "    \n",
    "    "
   ]
  },
  {
   "cell_type": "code",
   "execution_count": 47,
   "metadata": {},
   "outputs": [
    {
     "name": "stdout",
     "output_type": "stream",
     "text": [
      "After 1000 simulated trials the average number of moves is 112.562.\n"
     ]
    }
   ],
   "source": [
    "simulate()"
   ]
  },
  {
   "cell_type": "markdown",
   "metadata": {},
   "source": [
    "## Data Viz...!"
   ]
  },
  {
   "cell_type": "code",
   "execution_count": 48,
   "metadata": {},
   "outputs": [],
   "source": [
    "import matplotlib.pyplot as plt\n",
    "import seaborn as sns\n",
    "%matplotlib inline"
   ]
  },
  {
   "cell_type": "code",
   "execution_count": 49,
   "metadata": {},
   "outputs": [],
   "source": [
    "# may be a use case for generators but idk enough about them :(\n",
    "\n",
    "def trialArray(iters=1000):\n",
    "    lst = []\n",
    "    for i in range(iters):\n",
    "        lst.append(simulate(i+1, suppress=True))\n",
    "    return lst"
   ]
  },
  {
   "cell_type": "code",
   "execution_count": 73,
   "metadata": {},
   "outputs": [
    {
     "name": "stderr",
     "output_type": "stream",
     "text": [
      "c:\\users\\will2\\appdata\\local\\programs\\python\\python37\\lib\\site-packages\\ipykernel_launcher.py:14: UserWarning: Matplotlib is currently using module://ipykernel.pylab.backend_inline, which is a non-GUI backend, so cannot show the figure.\n",
      "  \n"
     ]
    },
    {
     "data": {
      "image/png": "[encoded data removed]",
      "text/plain": [
       "<Figure size 432x288 with 1 Axes>"
      ]
     },
     "metadata": {},
     "output_type": "display_data"
    }
   ],
   "source": [
    "no_iters = 100000\n",
    "\n",
    "lst = simulate(n=no_iters, repeat=True)\n",
    "\n",
    "sns.set_style(\"darkgrid\")\n",
    "fig,ax = plt.subplots()\n",
    "ax.plot(lst)\n",
    "ax.set(title = f\"After {no_iters} simulated trials the average number of moves is {lst[-1]}.\", \n",
    "       ylabel = \"Average number of moves required\",\n",
    "       xlabel = \"Number of trials executed\",\n",
    "       xlim = [0, no_iters],\n",
    "       ylim = [100, 130] )\n",
    "       \n",
    "fig.show()"
   ]
  },
  {
   "cell_type": "code",
   "execution_count": 74,
   "metadata": {},
   "outputs": [],
   "source": [
    "fig.savefig(\"Knights.png\")"
   ]
  },
  {
   "cell_type": "code",
   "execution_count": null,
   "metadata": {},
   "outputs": [],
   "source": []
  }
 ],
 "metadata": {
  "kernelspec": {
   "display_name": "Python 3",
   "language": "python",
   "name": "python3"
  },
  "language_info": {
   "codemirror_mode": {
    "name": "ipython",
    "version": 3
   },
   "file_extension": ".py",
   "mimetype": "text/x-python",
   "name": "python",
   "nbconvert_exporter": "python",
   "pygments_lexer": "ipython3",
   "version": "3.7.2"
  }
 },
 "nbformat": 4,
 "nbformat_minor": 2
}
